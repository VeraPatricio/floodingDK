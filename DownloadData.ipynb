{
 "cells": [
  {
   "cell_type": "markdown",
   "metadata": {},
   "source": [
    "# Download Data Sweden"
   ]
  },
  {
   "cell_type": "code",
   "execution_count": 1,
   "metadata": {},
   "outputs": [],
   "source": [
    "%matplotlib widget\n",
    "import matplotlib.pylab as plt\n",
    "import seaborn as sns\n",
    "\n",
    "import numpy as np\n",
    "\n",
    "import pandas as pd\n",
    "\n",
    "import re\n",
    "\n",
    "from tqdm import tqdm\n",
    "import glob\n",
    "import os\n",
    "\n",
    "from owslib.wms import WebMapService\n",
    "import rasterio"
   ]
  },
  {
   "cell_type": "code",
   "execution_count": null,
   "metadata": {},
   "outputs": [],
   "source": []
  },
  {
   "cell_type": "markdown",
   "metadata": {},
   "source": [
    "## Floading maps\n",
    "\n",
    "All maps for Sweden: https://gisapp.msb.se/Apps/oversvamningsportal/hemta-data.html\n",
    "\n",
    "Right now I'll be using: https://gisapp.msb.se/arcgis/services/Oversvamningskarteringar/karteringar/MapServer/WmsServer"
   ]
  },
  {
   "cell_type": "markdown",
   "metadata": {},
   "source": [
    "## Check what layers are available"
   ]
  },
  {
   "cell_type": "code",
   "execution_count": 2,
   "metadata": {},
   "outputs": [
    {
     "name": "stdout",
     "output_type": "stream",
     "text": [
      "0      Översiktliga, beräknat högsta flöde ['EPSG:4326', 'EPSG:3006']\n",
      "1               Översiktliga, 100-årsflöde ['EPSG:4326', 'EPSG:3006']\n",
      "2  Tvärsektioner, översiktliga karteringar ['EPSG:4326', 'EPSG:3006']\n",
      "3         Torne älv, beräknat högsta flöde ['EPSG:4326', 'EPSG:3006']\n",
      "4                  Torne älv, 250-årsflöde ['EPSG:4326', 'EPSG:3006']\n",
      "5                  Torne älv, 100-årsflöde ['EPSG:4326', 'EPSG:3006']\n",
      "6                 Torne älv, tvärsektioner ['EPSG:4326', 'EPSG:3006']\n",
      "7 Göta älv, 1400 m³/s (Motsvarande beräknat högsta flöde) ['EPSG:4326', 'EPSG:3006']\n",
      "8 Göta älv, 1200 m³/s (Motsvarande 200-årsflöde) ['EPSG:4326', 'EPSG:3006']\n",
      "9 Göta älv, 1030 m³/s (Motsvarande 100-årsflöde) ['EPSG:4326', 'EPSG:3006']\n",
      "10                  Göta älv, tvärsektioner ['EPSG:4326', 'EPSG:3006']\n",
      "11                    Beräknat högsta flöde ['EPSG:4326', 'EPSG:3006']\n",
      "12 200-årsflöde (Klimatanpassat flöde för slutet av seklet) ['EPSG:4326', 'EPSG:3006']\n",
      "13 100-årsflöde (Klimatanpassat flöde för slutet av seklet) ['EPSG:4326', 'EPSG:3006']\n",
      "14                            Tvärsektioner ['EPSG:4326', 'EPSG:3006']\n",
      "15 Översvämningskarterade vattendrag, översikt ['EPSG:4326', 'EPSG:3006']\n"
     ]
    }
   ],
   "source": [
    "wms = WebMapService('https://gisapp.msb.se/arcgis/services/Oversvamningskarteringar/karteringar/MapServer/WmsServer')\n",
    "\n",
    "for layer_nb in wms.contents:\n",
    "    print('%s %40s %s'%(layer_nb,wms[layer_nb].title,wms[layer_nb].crsOptions))"
   ]
  },
  {
   "cell_type": "markdown",
   "metadata": {},
   "source": [
    "## Download data and save it with georeferences\n",
    "\n",
    "Not sure what all of these are, so I'm downloading all."
   ]
  },
  {
   "cell_type": "code",
   "execution_count": 24,
   "metadata": {},
   "outputs": [],
   "source": [
    "def save_file(wms,layer,size,crs,dir_path):\n",
    "    \n",
    "    srs = wms[layer].crsOptions\n",
    "    bbox = wms[layer].boundingBoxWGS84 \n",
    "    output_name = wms[layer].title\n",
    "    output_name = output_name.replace(',','').replace('(','').replace(')','').replace(' ','_').replace('m³/s','m3s')\n",
    "    \n",
    "    if crs not in srs:\n",
    "        print('CRS not available (available options:)',srs)\n",
    "        pass\n",
    "        \n",
    "    # Get the image from the server\n",
    "    img = wms.getmap(layers=[layer],\n",
    "                     styles=['default'],\n",
    "                     srs=crs,\n",
    "                     bbox=bbox,\n",
    "                     size=size,\n",
    "                     transparent=True,\n",
    "                     format='image/png8'\n",
    "                    )\n",
    "    \n",
    "    # Save the array as an image\n",
    "    print('Saved', dir_path+output_name+'.png')\n",
    "    with open(dir_path+output_name+'.png', 'wb') as out:\n",
    "        out.write(img.read())\n",
    "       \n",
    "    # Re-open the same image in rasterio to georeference it\n",
    "    img_array = rasterio.open(dir_path+output_name+'.png').read().squeeze() \n",
    "    img_shape = img_array.shape\n",
    "    dst_transform = rasterio.transform.from_bounds(west = bbox[0],\n",
    "                                                   south = bbox[1],\n",
    "                                                   east = bbox[2],\n",
    "                                                   north = bbox[3],\n",
    "                                                   width=img_shape[1], height=img_shape[0])\n",
    "    # Write it out to a file.\n",
    "    with rasterio.open(dir_path+output_name+'.png', 'w', driver='GTiff',\n",
    "                       width=img_shape[1], height=img_shape[0],\n",
    "                       count=1, dtype=np.uint8, nodata=0,\n",
    "                       transform=dst_transform, crs=crs,\n",
    "                        compress='lzw',) as dst:\n",
    "        dst.write(img_array.astype(np.uint8), indexes=1)"
   ]
  },
  {
   "cell_type": "code",
   "execution_count": 25,
   "metadata": {},
   "outputs": [
    {
     "name": "stdout",
     "output_type": "stream",
     "text": [
      "Saved SWE/Översiktliga_beräknat_högsta_flöde.png\n",
      "Saved SWE/Översiktliga_100-årsflöde.png\n",
      "Saved SWE/Tvärsektioner_översiktliga_karteringar.png\n",
      "Saved SWE/Torne_älv_beräknat_högsta_flöde.png\n",
      "Saved SWE/Torne_älv_250-årsflöde.png\n",
      "Saved SWE/Torne_älv_100-årsflöde.png\n",
      "Saved SWE/Torne_älv_tvärsektioner.png\n",
      "Saved SWE/Göta_älv_1400_m3s_Motsvarande_beräknat_högsta_flöde.png\n",
      "Saved SWE/Göta_älv_1200_m3s_Motsvarande_200-årsflöde.png\n",
      "Saved SWE/Göta_älv_1030_m3s_Motsvarande_100-årsflöde.png\n",
      "Saved SWE/Göta_älv_tvärsektioner.png\n",
      "Saved SWE/Beräknat_högsta_flöde.png\n",
      "Saved SWE/200-årsflöde_Klimatanpassat_flöde_för_slutet_av_seklet.png\n",
      "Saved SWE/100-årsflöde_Klimatanpassat_flöde_för_slutet_av_seklet.png\n",
      "Saved SWE/Tvärsektioner.png\n",
      "Saved SWE/Översvämningskarterade_vattendrag_översikt.png\n"
     ]
    }
   ],
   "source": [
    "dir_path = 'SWE/'\n",
    "if not os.path.exists(dir_path):\n",
    "    os.makedirs(dir_path)\n",
    "        \n",
    "for layer_nb in wms.contents:\n",
    "    save_file(wms,\n",
    "              layer=layer_nb,\n",
    "              size=(4000,4000),\n",
    "              crs='EPSG:4326',\n",
    "              dir_path=dir_path)"
   ]
  },
  {
   "cell_type": "code",
   "execution_count": null,
   "metadata": {},
   "outputs": [],
   "source": []
  }
 ],
 "metadata": {
  "kernelspec": {
   "display_name": "Python 3",
   "language": "python",
   "name": "python3"
  },
  "language_info": {
   "codemirror_mode": {
    "name": "ipython",
    "version": 3
   },
   "file_extension": ".py",
   "mimetype": "text/x-python",
   "name": "python",
   "nbconvert_exporter": "python",
   "pygments_lexer": "ipython3",
   "version": "3.7.1"
  }
 },
 "nbformat": 4,
 "nbformat_minor": 4
}
